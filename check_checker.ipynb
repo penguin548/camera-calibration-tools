{
 "cells": [
  {
   "cell_type": "markdown",
   "metadata": {},
   "source": [
    "# チェッカーボード検出と画像保存\n",
    "OpenCVを使ってチェッカーボードを検出し、結果画像を保存する。"
   ]
  },
  {
   "cell_type": "code",
   "execution_count": 4,
   "metadata": {},
   "outputs": [
    {
     "name": "stdout",
     "output_type": "stream",
     "text": [
      "入力画像一覧: ['./carib_test/ext_carib_images/IMG_3503.JPG']\n",
      "検出する画像の枚数: 1\n",
      "検出成功: IMG_3503.JPG\n"
     ]
    }
   ],
   "source": [
    "import cv2\n",
    "import numpy as np\n",
    "import os\n",
    "from glob import glob\n",
    "\n",
    "# チェッカーボードの交差点数（内側）\n",
    "checkerboard_size = (35, 25)\n",
    "\n",
    "# 入力・出力ディレクトリ\n",
    "input_dir = './carib_test/ext_carib_images/'  # 入力画像フォルダ\n",
    "output_dir = './output_images'  # 出力フォルダ\n",
    "os.makedirs(output_dir, exist_ok=True)\n",
    "\n",
    "# 画像一覧を取得\n",
    "image_paths = glob(os.path.join(input_dir, '*.JPG'))\n",
    "print(f\"入力画像一覧: {image_paths}\")\n",
    "# 画像の枚数を表示\n",
    "print(f\"検出する画像の枚数: {len(image_paths)}\")\n",
    "\n",
    "for idx, img_path in enumerate(image_paths):\n",
    "    img = cv2.imread(img_path)\n",
    "    gray = cv2.cvtColor(img, cv2.COLOR_BGR2GRAY)\n",
    "    # 大津の二値化を適用\n",
    "    _, binary = cv2.threshold(gray, 0, 255, cv2.THRESH_BINARY + cv2.THRESH_OTSU)\n",
    "    # binary画像を保存\n",
    "    os.makedirs('./binary_img', exist_ok=True)\n",
    "    cv2.imwrite(f\"./binary_img/binary_{idx}.jpg\", binary)\n",
    "\n",
    "    ret, corners = cv2.findChessboardCorners(binary, checkerboard_size, None)\n",
    "\n",
    "    if ret:\n",
    "        cv2.drawChessboardCorners(img, checkerboard_size, corners, ret)\n",
    "        filename = os.path.basename(img_path)\n",
    "        out_path = os.path.join(output_dir, filename)\n",
    "        cv2.imwrite(out_path, img)\n",
    "        print(f\"検出成功: {filename}\")\n",
    "    else:\n",
    "        print(f\"検出失敗: {img_path}\")"
   ]
  }
 ],
 "metadata": {
  "kernelspec": {
   "display_name": ".venv",
   "language": "python",
   "name": "python3"
  },
  "language_info": {
   "codemirror_mode": {
    "name": "ipython",
    "version": 3
   },
   "file_extension": ".py",
   "mimetype": "text/x-python",
   "name": "python",
   "nbconvert_exporter": "python",
   "pygments_lexer": "ipython3",
   "version": "3.10.13"
  }
 },
 "nbformat": 4,
 "nbformat_minor": 5
}
